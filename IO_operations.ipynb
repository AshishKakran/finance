{
 "cells": [
  {
   "cell_type": "markdown",
   "id": "ad0c578a",
   "metadata": {},
   "source": [
    "# IO operations\n",
    "\n",
    "* pickle\n",
    "* csv"
   ]
  },
  {
   "cell_type": "markdown",
   "id": "00a717f2",
   "metadata": {},
   "source": [
    "## writing objects to disk"
   ]
  },
  {
   "cell_type": "code",
   "execution_count": 1,
   "id": "4c89bd33",
   "metadata": {},
   "outputs": [],
   "source": [
    "from pylab import plt, mpl"
   ]
  },
  {
   "cell_type": "code",
   "execution_count": 2,
   "id": "e5f9bc22",
   "metadata": {},
   "outputs": [],
   "source": [
    "import seaborn as sns"
   ]
  },
  {
   "cell_type": "code",
   "execution_count": 3,
   "id": "a61fdc09",
   "metadata": {},
   "outputs": [],
   "source": [
    "sns.set_theme()"
   ]
  },
  {
   "cell_type": "code",
   "execution_count": 4,
   "id": "862f998d",
   "metadata": {},
   "outputs": [],
   "source": [
    "mpl.rcParams['font.family'] = 'serif'\n",
    "%matplotlib inline"
   ]
  },
  {
   "cell_type": "code",
   "execution_count": 5,
   "id": "fab25799",
   "metadata": {},
   "outputs": [],
   "source": [
    "import pickle \n",
    "import numpy as np\n",
    "from random import gauss"
   ]
  },
  {
   "cell_type": "code",
   "execution_count": 6,
   "id": "e3346dab",
   "metadata": {},
   "outputs": [],
   "source": [
    "a = [ gauss(1.5,2) for i in range(10**6)]\n",
    "path = './data/'"
   ]
  },
  {
   "cell_type": "code",
   "execution_count": 21,
   "id": "6cfbb535",
   "metadata": {},
   "outputs": [],
   "source": [
    "pkl_file = open(path + 'data.pkl', 'wb')"
   ]
  },
  {
   "cell_type": "code",
   "execution_count": 22,
   "id": "2d0958dc",
   "metadata": {},
   "outputs": [
    {
     "name": "stdout",
     "output_type": "stream",
     "text": [
      "CPU times: user 26.6 ms, sys: 0 ns, total: 26.6 ms\n",
      "Wall time: 25.7 ms\n"
     ]
    }
   ],
   "source": [
    "%time pickle.dump(a, pkl_file)"
   ]
  },
  {
   "cell_type": "code",
   "execution_count": 23,
   "id": "57ac17cb",
   "metadata": {},
   "outputs": [],
   "source": [
    "pkl_file.close()"
   ]
  },
  {
   "cell_type": "code",
   "execution_count": 24,
   "id": "3f51db87",
   "metadata": {},
   "outputs": [],
   "source": [
    "pkl_file = open(path + 'data.pkl', 'rb')"
   ]
  },
  {
   "cell_type": "code",
   "execution_count": 25,
   "id": "d3a2f50f",
   "metadata": {
    "scrolled": true
   },
   "outputs": [
    {
     "name": "stdout",
     "output_type": "stream",
     "text": [
      "CPU times: user 25 ms, sys: 15.9 ms, total: 40.9 ms\n",
      "Wall time: 40.2 ms\n"
     ]
    }
   ],
   "source": [
    "%time b = pickle.load(pkl_file)"
   ]
  },
  {
   "cell_type": "code",
   "execution_count": 31,
   "id": "f3c0f1e5",
   "metadata": {},
   "outputs": [
    {
     "data": {
      "text/plain": [
       "[2.634449705365903, 0.03628978280578243, 3.3563943619759042]"
      ]
     },
     "execution_count": 31,
     "metadata": {},
     "output_type": "execute_result"
    }
   ],
   "source": [
    "a[:3]"
   ]
  },
  {
   "cell_type": "code",
   "execution_count": 32,
   "id": "378c82ec",
   "metadata": {},
   "outputs": [
    {
     "data": {
      "text/plain": [
       "[2.634449705365903, 0.03628978280578243, 3.3563943619759042]"
      ]
     },
     "execution_count": 32,
     "metadata": {},
     "output_type": "execute_result"
    }
   ],
   "source": [
    "b[:3]"
   ]
  },
  {
   "cell_type": "code",
   "execution_count": 33,
   "id": "2a54647c",
   "metadata": {},
   "outputs": [
    {
     "data": {
      "text/plain": [
       "True"
      ]
     },
     "execution_count": 33,
     "metadata": {},
     "output_type": "execute_result"
    }
   ],
   "source": [
    "np.allclose(np.array(a), np.array(b))"
   ]
  },
  {
   "cell_type": "code",
   "execution_count": 34,
   "id": "f1659e0c",
   "metadata": {},
   "outputs": [],
   "source": [
    "# serialization mode of pickle uses FIFO when storing multiple objects "
   ]
  },
  {
   "cell_type": "markdown",
   "id": "b0a5bfdf",
   "metadata": {},
   "source": [
    "## Reading and writing text files"
   ]
  },
  {
   "cell_type": "code",
   "execution_count": 35,
   "id": "f4756e95",
   "metadata": {},
   "outputs": [],
   "source": [
    "import pandas as pd"
   ]
  },
  {
   "cell_type": "code",
   "execution_count": 36,
   "id": "6bbcf559",
   "metadata": {},
   "outputs": [],
   "source": [
    "rows = 5000\n",
    "a = np.random.standard_normal((rows,5)).round(3)"
   ]
  },
  {
   "cell_type": "code",
   "execution_count": 39,
   "id": "f9d3ae05",
   "metadata": {},
   "outputs": [],
   "source": [
    "t = pd.date_range(start='2019/1/1', periods=rows, freq='H')"
   ]
  },
  {
   "cell_type": "code",
   "execution_count": 40,
   "id": "e6b878f8",
   "metadata": {},
   "outputs": [
    {
     "data": {
      "text/plain": [
       "DatetimeIndex(['2019-01-01 00:00:00', '2019-01-01 01:00:00',\n",
       "               '2019-01-01 02:00:00', '2019-01-01 03:00:00',\n",
       "               '2019-01-01 04:00:00', '2019-01-01 05:00:00',\n",
       "               '2019-01-01 06:00:00', '2019-01-01 07:00:00',\n",
       "               '2019-01-01 08:00:00', '2019-01-01 09:00:00',\n",
       "               ...\n",
       "               '2019-07-27 22:00:00', '2019-07-27 23:00:00',\n",
       "               '2019-07-28 00:00:00', '2019-07-28 01:00:00',\n",
       "               '2019-07-28 02:00:00', '2019-07-28 03:00:00',\n",
       "               '2019-07-28 04:00:00', '2019-07-28 05:00:00',\n",
       "               '2019-07-28 06:00:00', '2019-07-28 07:00:00'],\n",
       "              dtype='datetime64[ns]', length=5000, freq='H')"
      ]
     },
     "execution_count": 40,
     "metadata": {},
     "output_type": "execute_result"
    }
   ],
   "source": [
    "t"
   ]
  },
  {
   "cell_type": "code",
   "execution_count": 41,
   "id": "b08ac0b6",
   "metadata": {},
   "outputs": [],
   "source": [
    "csv_file = open(path + 'data.csv', 'w')"
   ]
  },
  {
   "cell_type": "code",
   "execution_count": 42,
   "id": "2f02a6ef",
   "metadata": {},
   "outputs": [],
   "source": [
    "header = 'date,n1,n2,n3,n4,n5\\n'"
   ]
  },
  {
   "cell_type": "code",
   "execution_count": 43,
   "id": "d6355e93",
   "metadata": {},
   "outputs": [
    {
     "data": {
      "text/plain": [
       "20"
      ]
     },
     "execution_count": 43,
     "metadata": {},
     "output_type": "execute_result"
    }
   ],
   "source": [
    "csv_file.write(header)"
   ]
  },
  {
   "cell_type": "code",
   "execution_count": 44,
   "id": "eedb72bf",
   "metadata": {},
   "outputs": [],
   "source": [
    "for i,(a,b,c,d,e) in zip(t,a):\n",
    "    s = '{},{},{},{},{},{}\\n'.format(i,a,b,c,d,e)\n",
    "    csv_file.write(s)"
   ]
  },
  {
   "cell_type": "code",
   "execution_count": 45,
   "id": "52c582c8",
   "metadata": {},
   "outputs": [],
   "source": [
    "csv_file.close()"
   ]
  },
  {
   "cell_type": "code",
   "execution_count": 51,
   "id": "19a45a45",
   "metadata": {},
   "outputs": [],
   "source": [
    "csv_file = open(path + 'data.csv', 'r')"
   ]
  },
  {
   "cell_type": "code",
   "execution_count": 52,
   "id": "a78fbafc",
   "metadata": {},
   "outputs": [],
   "source": [
    "x = pd.read_csv(path + 'data.csv')"
   ]
  },
  {
   "cell_type": "code",
   "execution_count": 55,
   "id": "91acf5bb",
   "metadata": {},
   "outputs": [],
   "source": [
    "content = csv_file.readlines()\n",
    "#content"
   ]
  },
  {
   "cell_type": "code",
   "execution_count": 56,
   "id": "a4c96e4b",
   "metadata": {},
   "outputs": [],
   "source": [
    "csv_file.close()"
   ]
  },
  {
   "cell_type": "markdown",
   "id": "e1bf07c6",
   "metadata": {},
   "source": [
    "### working with sql databases"
   ]
  },
  {
   "cell_type": "code",
   "execution_count": 57,
   "id": "da379023",
   "metadata": {},
   "outputs": [],
   "source": [
    "import sqlite3 as sq3"
   ]
  },
  {
   "cell_type": "code",
   "execution_count": 58,
   "id": "0638b2bb",
   "metadata": {},
   "outputs": [],
   "source": [
    "con = sq3.connect(path + \"numbs.db\")"
   ]
  },
  {
   "cell_type": "code",
   "execution_count": 59,
   "id": "308e24fc",
   "metadata": {},
   "outputs": [],
   "source": [
    "query = 'Create table numbs (Date date, No1 real, No2 real)'"
   ]
  },
  {
   "cell_type": "code",
   "execution_count": 60,
   "id": "fdde267f",
   "metadata": {},
   "outputs": [
    {
     "data": {
      "text/plain": [
       "<sqlite3.Cursor at 0x7fb68fb15340>"
      ]
     },
     "execution_count": 60,
     "metadata": {},
     "output_type": "execute_result"
    }
   ],
   "source": [
    "con.execute(query)"
   ]
  },
  {
   "cell_type": "code",
   "execution_count": 61,
   "id": "c17be9ad",
   "metadata": {},
   "outputs": [],
   "source": [
    "con.commit()"
   ]
  },
  {
   "cell_type": "code",
   "execution_count": 64,
   "id": "afd560e3",
   "metadata": {},
   "outputs": [
    {
     "data": {
      "text/plain": [
       "[('table',\n",
       "  'numbs',\n",
       "  'numbs',\n",
       "  2,\n",
       "  'CREATE TABLE numbs (Date date, No1 real, No2 real)')]"
      ]
     },
     "execution_count": 64,
     "metadata": {},
     "output_type": "execute_result"
    }
   ],
   "source": [
    "con.execute('SELECT * from sqlite_master').fetchall()"
   ]
  },
  {
   "cell_type": "code",
   "execution_count": 65,
   "id": "fff36dce",
   "metadata": {},
   "outputs": [],
   "source": [
    "import datetime"
   ]
  },
  {
   "cell_type": "code",
   "execution_count": null,
   "id": "2669e467",
   "metadata": {},
   "outputs": [],
   "source": []
  },
  {
   "cell_type": "code",
   "execution_count": 68,
   "id": "f9b5856d",
   "metadata": {},
   "outputs": [
    {
     "data": {
      "text/plain": [
       "<sqlite3.Cursor at 0x7fb68fb15ab0>"
      ]
     },
     "execution_count": 68,
     "metadata": {},
     "output_type": "execute_result"
    }
   ],
   "source": [
    "now = datetime.datetime.now()\n",
    "con.execute('Insert into numbs values(?,?,?)', (now,0.12, 7.3))"
   ]
  },
  {
   "cell_type": "code",
   "execution_count": 69,
   "id": "b504579a",
   "metadata": {},
   "outputs": [],
   "source": [
    "np.random.seed(100)"
   ]
  },
  {
   "cell_type": "code",
   "execution_count": 70,
   "id": "8de1f4a0",
   "metadata": {},
   "outputs": [],
   "source": [
    "data = np.random.standard_normal((10000,2)).round(3)"
   ]
  },
  {
   "cell_type": "code",
   "execution_count": 73,
   "id": "66875097",
   "metadata": {},
   "outputs": [
    {
     "name": "stdout",
     "output_type": "stream",
     "text": [
      "CPU times: user 1 µs, sys: 0 ns, total: 1 µs\n",
      "Wall time: 3.58 µs\n"
     ]
    }
   ],
   "source": [
    "%time \n",
    "for row in data:\n",
    "    now = datetime.datetime.now()\n",
    "    con.execute('Insert into numbs values(?,?,?)', (now, row[0], row[1]))"
   ]
  },
  {
   "cell_type": "code",
   "execution_count": 74,
   "id": "3bce1263",
   "metadata": {},
   "outputs": [],
   "source": [
    "con.commit()"
   ]
  },
  {
   "cell_type": "code",
   "execution_count": 76,
   "id": "c0ebc196",
   "metadata": {},
   "outputs": [
    {
     "data": {
      "text/plain": [
       "[('2023-02-02 10:41:26.496087', 0.12, 7.3),\n",
       " ('2023-02-02 10:43:21.257714', -1.75, 0.343),\n",
       " ('2023-02-02 10:43:21.258010', 1.153, -0.252),\n",
       " ('2023-02-02 10:43:21.258089', 0.981, 0.514)]"
      ]
     },
     "execution_count": 76,
     "metadata": {},
     "output_type": "execute_result"
    }
   ],
   "source": [
    "con.execute('Select * from numbs').fetchmany(4)"
   ]
  },
  {
   "cell_type": "code",
   "execution_count": 82,
   "id": "04dc7a87",
   "metadata": {},
   "outputs": [],
   "source": [
    "pointer = con.execute('Select * from numbs')"
   ]
  },
  {
   "cell_type": "code",
   "execution_count": 83,
   "id": "94ab8923",
   "metadata": {},
   "outputs": [
    {
     "name": "stdout",
     "output_type": "stream",
     "text": [
      "('2023-02-02 10:41:26.496087', 0.12, 7.3)\n",
      "('2023-02-02 10:43:21.257714', -1.75, 0.343)\n",
      "('2023-02-02 10:43:21.258010', 1.153, -0.252)\n"
     ]
    }
   ],
   "source": [
    "for i in range(3):\n",
    "    print(pointer.fetchone())"
   ]
  },
  {
   "cell_type": "code",
   "execution_count": 84,
   "id": "c6ecac4a",
   "metadata": {},
   "outputs": [
    {
     "name": "stdout",
     "output_type": "stream",
     "text": [
      "[('2023-02-02 10:43:21.258089', 0.981, 0.514), ('2023-02-02 10:43:21.258338', 0.221, -1.07)]\n"
     ]
    }
   ],
   "source": [
    "print(pointer.fetchall()[:2])"
   ]
  },
  {
   "cell_type": "code",
   "execution_count": 85,
   "id": "4d78e8e9",
   "metadata": {},
   "outputs": [],
   "source": [
    "con.close()"
   ]
  },
  {
   "cell_type": "markdown",
   "id": "1eee335e",
   "metadata": {},
   "source": [
    "### writing and reading numpy arrays\n",
    "* np.save\n",
    "* np.load"
   ]
  },
  {
   "cell_type": "markdown",
   "id": "31eaca79",
   "metadata": {},
   "source": [
    "### IO with pandas"
   ]
  },
  {
   "cell_type": "markdown",
   "id": "64e6fd31",
   "metadata": {},
   "source": [
    "### IO with pytables and tstables"
   ]
  }
 ],
 "metadata": {
  "kernelspec": {
   "display_name": "Python 3 (ipykernel)",
   "language": "python",
   "name": "python3"
  },
  "language_info": {
   "codemirror_mode": {
    "name": "ipython",
    "version": 3
   },
   "file_extension": ".py",
   "mimetype": "text/x-python",
   "name": "python",
   "nbconvert_exporter": "python",
   "pygments_lexer": "ipython3",
   "version": "3.9.15"
  }
 },
 "nbformat": 4,
 "nbformat_minor": 5
}
