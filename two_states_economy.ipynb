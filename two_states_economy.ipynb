{
 "cells": [
  {
   "cell_type": "markdown",
   "id": "96d1c53e-efd0-4779-844d-42cb107eafad",
   "metadata": {},
   "source": [
    "# Two states economy"
   ]
  },
  {
   "cell_type": "code",
   "execution_count": 1,
   "id": "05d2426b",
   "metadata": {},
   "outputs": [],
   "source": [
    "import numpy as np\n",
    "import pandas as pd\n",
    "import matplotlib.pyplot as plt"
   ]
  },
  {
   "cell_type": "markdown",
   "id": "d97e4873-e69e-4203-97c0-1b13ae4e6757",
   "metadata": {},
   "source": [
    "### Return and return rate"
   ]
  },
  {
   "cell_type": "code",
   "execution_count": 2,
   "id": "7b677eb7-f356-4020-a10c-e95ce9c53a39",
   "metadata": {},
   "outputs": [
    {
     "data": {
      "text/plain": [
       "2"
      ]
     },
     "execution_count": 2,
     "metadata": {},
     "output_type": "execute_result"
    }
   ],
   "source": [
    "c = (-10, 12) #cash flow\n",
    "R = sum(c)\n",
    "R # return"
   ]
  },
  {
   "cell_type": "code",
   "execution_count": 3,
   "id": "350ed009-9928-4748-a7e6-efacab7b7fe0",
   "metadata": {},
   "outputs": [
    {
     "data": {
      "text/plain": [
       "0.2"
      ]
     },
     "execution_count": 3,
     "metadata": {},
     "output_type": "execute_result"
    }
   ],
   "source": [
    "r = R/abs(c[0])\n",
    "r # rate of return"
   ]
  },
  {
   "cell_type": "markdown",
   "id": "5b33907d-2000-48c2-8cb5-5b6bfb51a166",
   "metadata": {},
   "source": [
    "### interest and present value"
   ]
  },
  {
   "cell_type": "code",
   "execution_count": 4,
   "id": "7608d7e3-6db4-41d0-a8e7-fd87bdd1e9d7",
   "metadata": {},
   "outputs": [],
   "source": [
    "i = 0.1 # interest"
   ]
  },
  {
   "cell_type": "code",
   "execution_count": 5,
   "id": "dc56d2c0-9a52-4a80-9232-9d46e425e329",
   "metadata": {},
   "outputs": [],
   "source": [
    "def D(c1): #discounting oppotunity costs\n",
    "    return c1/(1+i)"
   ]
  },
  {
   "cell_type": "code",
   "execution_count": 6,
   "id": "5eb599f2-d37a-4c92-95ff-ecd0a9f6a04c",
   "metadata": {},
   "outputs": [
    {
     "data": {
      "text/plain": [
       "9.09090909090909"
      ]
     },
     "execution_count": 6,
     "metadata": {},
     "output_type": "execute_result"
    }
   ],
   "source": [
    "# present value\n",
    "D(abs(c[0]))"
   ]
  },
  {
   "cell_type": "markdown",
   "id": "fee38664-68eb-4677-be02-9ed815b18614",
   "metadata": {},
   "source": [
    "### net present value"
   ]
  },
  {
   "cell_type": "code",
   "execution_count": 7,
   "id": "f91e2419-f78c-490b-8d8d-fde69aeda18e",
   "metadata": {},
   "outputs": [],
   "source": [
    "def NPV(c):\n",
    "    return c[0] + D(c[1])"
   ]
  },
  {
   "cell_type": "code",
   "execution_count": 8,
   "id": "77a92664-4029-46ec-b683-e75681f419be",
   "metadata": {},
   "outputs": [],
   "source": [
    "cA = (-10.5, 12.1)"
   ]
  },
  {
   "cell_type": "code",
   "execution_count": 9,
   "id": "68128c19-e458-4c2f-bfb7-96e7c7fb9611",
   "metadata": {},
   "outputs": [],
   "source": [
    "cB = (-10.5, 11)"
   ]
  },
  {
   "cell_type": "code",
   "execution_count": 10,
   "id": "e853d79f-1630-4506-a251-5ff22289d266",
   "metadata": {},
   "outputs": [
    {
     "data": {
      "text/plain": [
       "0.4999999999999982"
      ]
     },
     "execution_count": 10,
     "metadata": {},
     "output_type": "execute_result"
    }
   ],
   "source": [
    "NPV(cA) # investing makes sense"
   ]
  },
  {
   "cell_type": "code",
   "execution_count": 11,
   "id": "38ae2b05-1ef2-4f8c-99e9-716ca3f04594",
   "metadata": {},
   "outputs": [
    {
     "data": {
      "text/plain": [
       "-0.5"
      ]
     },
     "execution_count": 11,
     "metadata": {},
     "output_type": "execute_result"
    }
   ],
   "source": [
    "NPV(cB) # investing in this doesn't make sense"
   ]
  },
  {
   "cell_type": "markdown",
   "id": "f58bc32b-db35-4456-89e0-d4a00a91d1ae",
   "metadata": {},
   "source": [
    "###  Uncertainty over Financial assets and price process"
   ]
  },
  {
   "cell_type": "code",
   "execution_count": 12,
   "id": "4d4cd88b-7fb0-4d57-b57a-e5ce96e6df8b",
   "metadata": {},
   "outputs": [],
   "source": [
    "S0 = 10 #asset"
   ]
  },
  {
   "cell_type": "code",
   "execution_count": 14,
   "id": "e69409cc-7e17-4b82-82bf-ca92b57ac4f5",
   "metadata": {},
   "outputs": [],
   "source": [
    "S1 = np.array((12.5, 7.5)) # two states"
   ]
  },
  {
   "cell_type": "code",
   "execution_count": 16,
   "id": "86c84cc4",
   "metadata": {},
   "outputs": [
    {
     "data": {
      "text/plain": [
       "(10, array([12.5,  7.5]))"
      ]
     },
     "execution_count": 16,
     "metadata": {},
     "output_type": "execute_result"
    }
   ],
   "source": [
    "S = (S0, S1) #price process\n",
    "S"
   ]
  },
  {
   "cell_type": "markdown",
   "id": "84f7c0dd",
   "metadata": {},
   "source": [
    "### Risk and expectation"
   ]
  },
  {
   "cell_type": "code",
   "execution_count": 17,
   "id": "1340ad2a",
   "metadata": {},
   "outputs": [],
   "source": [
    "p = 0.4 #apriori probability of economic state\n",
    "P = np.array([p, 1-p]) # probability measure"
   ]
  },
  {
   "cell_type": "code",
   "execution_count": 22,
   "id": "0bea0fe7",
   "metadata": {},
   "outputs": [
    {
     "data": {
      "text/plain": [
       "11.0"
      ]
     },
     "execution_count": 22,
     "metadata": {},
     "output_type": "execute_result"
    }
   ],
   "source": [
    "S0 = 10\n",
    "S1 = np.array([20,5])\n",
    "np.dot(P,S1) #Expectated value of S0 after a year"
   ]
  },
  {
   "cell_type": "code",
   "execution_count": 23,
   "id": "abb4f72d",
   "metadata": {},
   "outputs": [],
   "source": [
    "def expected_return(S0,S1,P):\n",
    "    return np.dot(P,S1) - S0"
   ]
  },
  {
   "cell_type": "code",
   "execution_count": 24,
   "id": "5cb09faf",
   "metadata": {},
   "outputs": [
    {
     "data": {
      "text/plain": [
       "1.0"
      ]
     },
     "execution_count": 24,
     "metadata": {},
     "output_type": "execute_result"
    }
   ],
   "source": [
    "expected_return(S0, S1, P)"
   ]
  },
  {
   "cell_type": "code",
   "execution_count": 27,
   "id": "1d35f661",
   "metadata": {},
   "outputs": [],
   "source": [
    "def exp_return_rate(x0,x1,p): #alternatively denoted as mu in econometrics\n",
    "    return expected_return(x0,x1,p)/x0"
   ]
  },
  {
   "cell_type": "code",
   "execution_count": 34,
   "id": "e20f92c2",
   "metadata": {},
   "outputs": [
    {
     "data": {
      "text/plain": [
       "0.1"
      ]
     },
     "execution_count": 34,
     "metadata": {},
     "output_type": "execute_result"
    }
   ],
   "source": [
    "mu = exp_return_rate(S0,S1,P)\n",
    "mu"
   ]
  },
  {
   "cell_type": "markdown",
   "id": "d001b1f2",
   "metadata": {},
   "source": [
    "### volatility\n",
    "standard deviation of rate of return"
   ]
  },
  {
   "cell_type": "code",
   "execution_count": 32,
   "id": "380880ae",
   "metadata": {},
   "outputs": [],
   "source": [
    "def r(x0,x1):\n",
    "    return (x1-x0)/x0"
   ]
  },
  {
   "cell_type": "code",
   "execution_count": 33,
   "id": "9c1a0896",
   "metadata": {},
   "outputs": [
    {
     "data": {
      "text/plain": [
       "array([ 1. , -0.5])"
      ]
     },
     "execution_count": 33,
     "metadata": {},
     "output_type": "execute_result"
    }
   ],
   "source": [
    "r(S0,S1)"
   ]
  },
  {
   "cell_type": "code",
   "execution_count": 39,
   "id": "5d0f5de5",
   "metadata": {},
   "outputs": [],
   "source": [
    "def volatility(P,r,mu):\n",
    "    variance = np.dot(P, (r-mu)**2)\n",
    "    return np.sqrt(variance), variance"
   ]
  },
  {
   "cell_type": "code",
   "execution_count": 43,
   "id": "01399a7a",
   "metadata": {},
   "outputs": [
    {
     "data": {
      "text/plain": [
       "0.7348469228349535"
      ]
     },
     "execution_count": 43,
     "metadata": {},
     "output_type": "execute_result"
    }
   ],
   "source": [
    "sigma,sigma2 = volatility(P,r(S0,S1), exp_return_rate(S0,S1,P))\n",
    "sigma"
   ]
  },
  {
   "cell_type": "markdown",
   "id": "b95945f4",
   "metadata": {},
   "source": [
    "## contingent claim\n",
    "* call option\n",
    "* replication\n",
    "* arbitrage pricing"
   ]
  },
  {
   "cell_type": "code",
   "execution_count": 46,
   "id": "89b8ad80",
   "metadata": {},
   "outputs": [
    {
     "data": {
      "text/plain": [
       "array([0, 1, 2, 3, 4, 5, 6])"
      ]
     },
     "execution_count": 46,
     "metadata": {},
     "output_type": "execute_result"
    }
   ],
   "source": [
    "S1 = np.arange(20)\n",
    "S1[:7]"
   ]
  },
  {
   "cell_type": "code",
   "execution_count": 48,
   "id": "945d9461",
   "metadata": {},
   "outputs": [],
   "source": [
    "K = 10 # strike price"
   ]
  },
  {
   "cell_type": "code",
   "execution_count": 51,
   "id": "0f9ef031",
   "metadata": {},
   "outputs": [
    {
     "data": {
      "text/plain": [
       "array([0, 0, 0, 0, 0, 0, 0, 0, 0, 0, 0, 1, 2, 3, 4, 5, 6, 7, 8, 9])"
      ]
     },
     "execution_count": 51,
     "metadata": {},
     "output_type": "execute_result"
    }
   ],
   "source": [
    "C1 = np.maximum(S1-K,0) # pay off on call option\n",
    "C1"
   ]
  },
  {
   "cell_type": "code",
   "execution_count": 56,
   "id": "9400fa68",
   "metadata": {},
   "outputs": [],
   "source": [
    "from pylab import mpl"
   ]
  },
  {
   "cell_type": "code",
   "execution_count": 57,
   "id": "a06a4385",
   "metadata": {},
   "outputs": [
    {
     "name": "stderr",
     "output_type": "stream",
     "text": [
      "/tmp/ipykernel_5166/240305066.py:1: MatplotlibDeprecationWarning: The seaborn styles shipped by Matplotlib are deprecated since 3.6, as they no longer correspond to the styles shipped by seaborn. However, they will remain available as 'seaborn-v0_8-<style>'. Alternatively, directly use the seaborn API instead.\n",
      "  plt.style.use('seaborn')\n"
     ]
    }
   ],
   "source": [
    "plt.style.use('seaborn')"
   ]
  },
  {
   "cell_type": "code",
   "execution_count": 58,
   "id": "a938e180",
   "metadata": {},
   "outputs": [],
   "source": [
    "mpl.rcParams['savefig.dpi'] = 300\n",
    "mpl.rcParams['font.family'] = 'serif'"
   ]
  },
  {
   "cell_type": "code",
   "execution_count": 59,
   "id": "2806b795",
   "metadata": {},
   "outputs": [
    {
     "data": {
      "text/plain": [
       "Text(0, 0.5, '$C_1$')"
      ]
     },
     "execution_count": 59,
     "metadata": {},
     "output_type": "execute_result"
    },
    {
     "data": {
      "image/png": "[encoded data removed]",
      "text/plain": [
       "<Figure size 1000x600 with 1 Axes>"
      ]
     },
     "metadata": {},
     "output_type": "display_data"
    }
   ],
   "source": [
    "plt.figure(figsize=(10,6))\n",
    "plt.plot(S1,C1,lw=3.0, label='$C_1 = \\max(S_1 - K, 0)$')\n",
    "plt.legend(loc=0)\n",
    "plt.xlabel('$S_1$')\n",
    "plt.ylabel('$C_1$')"
   ]
  },
  {
   "cell_type": "markdown",
   "id": "65208e7b",
   "metadata": {},
   "source": [
    "### Replication"
   ]
  },
  {
   "cell_type": "code",
   "execution_count": 60,
   "id": "b50aefd0",
   "metadata": {},
   "outputs": [],
   "source": [
    "B = (10, np.array((11,11))) #price process for riskless bond\n",
    "S = (10, np.array((20,5))) #price process for risky stock"
   ]
  },
  {
   "cell_type": "code",
   "execution_count": 61,
   "id": "96244d49",
   "metadata": {},
   "outputs": [],
   "source": [
    "M = np.array((B[1], S[1])).T"
   ]
  },
  {
   "cell_type": "code",
   "execution_count": 62,
   "id": "e3f8246a",
   "metadata": {},
   "outputs": [
    {
     "data": {
      "text/plain": [
       "array([[11, 20],\n",
       "       [11,  5]])"
      ]
     },
     "execution_count": 62,
     "metadata": {},
     "output_type": "execute_result"
    }
   ],
   "source": [
    "M"
   ]
  },
  {
   "cell_type": "code",
   "execution_count": 63,
   "id": "d86dbf24",
   "metadata": {},
   "outputs": [],
   "source": [
    "K = 15 #strike price for the call option"
   ]
  },
  {
   "cell_type": "code",
   "execution_count": 64,
   "id": "53f162c3",
   "metadata": {},
   "outputs": [
    {
     "data": {
      "text/plain": [
       "array([5, 0])"
      ]
     },
     "execution_count": 64,
     "metadata": {},
     "output_type": "execute_result"
    }
   ],
   "source": [
    "C1 = np.maximum(S[1] - K, 0)\n",
    "C1 #values of payoff vector in one year"
   ]
  },
  {
   "cell_type": "code",
   "execution_count": 65,
   "id": "b8895853",
   "metadata": {},
   "outputs": [
    {
     "data": {
      "text/plain": [
       "array([-0.15151515,  0.33333333])"
      ]
     },
     "execution_count": 65,
     "metadata": {},
     "output_type": "execute_result"
    }
   ],
   "source": [
    "phi = np.linalg.solve(M,C1)\n",
    "phi"
   ]
  },
  {
   "cell_type": "markdown",
   "id": "f3aa8024",
   "metadata": {},
   "source": [
    "### Arbitrage Pricing\n",
    "\n",
    "An arbitrage is a trading strategy $phi$ that creates risk-less profit out of an investment of zero. Such economy is not viable"
   ]
  },
  {
   "cell_type": "code",
   "execution_count": 66,
   "id": "8de0b029",
   "metadata": {},
   "outputs": [
    {
     "data": {
      "text/plain": [
       "1.8181818181818181"
      ]
     },
     "execution_count": 66,
     "metadata": {},
     "output_type": "execute_result"
    }
   ],
   "source": [
    "C0 = np.dot(phi, (B[0], S[0]))\n",
    "C0"
   ]
  },
  {
   "cell_type": "code",
   "execution_count": null,
   "id": "0b4fc7eb",
   "metadata": {},
   "outputs": [],
   "source": []
  }
 ],
 "metadata": {
  "kernelspec": {
   "display_name": "Python 3 (ipykernel)",
   "language": "python",
   "name": "python3"
  },
  "language_info": {
   "codemirror_mode": {
    "name": "ipython",
    "version": 3
   },
   "file_extension": ".py",
   "mimetype": "text/x-python",
   "name": "python",
   "nbconvert_exporter": "python",
   "pygments_lexer": "ipython3",
   "version": "3.9.15"
  }
 },
 "nbformat": 4,
 "nbformat_minor": 5
}
